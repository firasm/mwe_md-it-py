{
 "cells": [
  {
   "cell_type": "code",
   "execution_count": 7,
   "metadata": {},
   "outputs": [],
   "source": [
    "import pathlib\n",
    "\n",
    "from markdown_it import MarkdownIt\n",
    "from mdit_py_plugins.front_matter import front_matter_plugin\n",
    "from mdit_py_plugins.footnote import footnote_plugin"
   ]
  },
  {
   "cell_type": "code",
   "execution_count": 8,
   "metadata": {},
   "outputs": [],
   "source": [
    "md = (\n",
    "    MarkdownIt()\n",
    "    .use(front_matter_plugin)\n",
    "    .use(footnote_plugin)\n",
    "    .disable('image')\n",
    "    .enable('table')\n",
    ")"
   ]
  },
  {
   "cell_type": "code",
   "execution_count": 9,
   "metadata": {},
   "outputs": [
    {
     "name": "stdout",
     "output_type": "stream",
     "text": [
      "---\n",
      "title: Distance travelled\n",
      "type: mcq\n",
      "author: Firas Moosvi\n",
      "source: original\n",
      "tags:\n",
      "- kinematics\n",
      "- test\n",
      "---\n",
      "# File Title\n",
      "\n",
      "Introduction to the problem\n",
      "\n",
      "## Question 1 Text\n",
      "\n",
      "Some text here\n",
      "\n",
      "### Answer 1 Section\n",
      "\n",
      "Some answers here\n",
      "\n",
      "## Question 2 Text\n",
      "\n",
      "Some other text here\n",
      "\n",
      "### Answer 2 Section\n",
      "\n",
      "Some other answers here\n"
     ]
    }
   ],
   "source": [
    "# Load the file\n",
    "\n",
    "path = pathlib.Path('test.md')\n",
    "mdtext = path.read_text()\n",
    "\n",
    "print(mdtext)"
   ]
  },
  {
   "cell_type": "code",
   "execution_count": 11,
   "metadata": {},
   "outputs": [],
   "source": [
    "# Parse the MD file using markdown-it-py\n",
    "\n",
    "tokens = md.parse(mdtext)\n",
    "# [(t.type, t.nesting) for t in tokens]"
   ]
  },
  {
   "cell_type": "code",
   "execution_count": 12,
   "metadata": {},
   "outputs": [
    {
     "name": "stdout",
     "output_type": "stream",
     "text": [
      "<root>\n",
      "  <front_matter>\n",
      "  <heading>\n",
      "    <inline>\n",
      "      <text>\n",
      "        File Title\n",
      "  <paragraph>\n",
      "    <inline>\n",
      "      <text>\n",
      "        Introduction to the problem\n",
      "  <heading>\n",
      "    <inline>\n",
      "      <text>\n",
      "        Question 1 Text\n",
      "  <paragraph>\n",
      "    <inline>\n",
      "      <text>\n",
      "        Some text here\n",
      "  <heading>\n",
      "    <inline>\n",
      "      <text>\n",
      "        Answer 1 Section\n",
      "  <paragraph>\n",
      "    <inline>\n",
      "      <text>\n",
      "        Some answers here\n",
      "  <heading>\n",
      "    <inline>\n",
      "      <text>\n",
      "        Question 2 Text\n",
      "  <paragraph>\n",
      "    <inline>\n",
      "      <text>\n",
      "        Some other text here\n",
      "  <heading>\n",
      "    <inline>\n",
      "      <text>\n",
      "        Answer 2 Section\n",
      "  <paragraph>\n",
      "    <inline>\n",
      "      <text>\n",
      "        Some other answers here\n"
     ]
    }
   ],
   "source": [
    "from markdown_it.tree import SyntaxTreeNode\n",
    "\n",
    "node = SyntaxTreeNode(tokens)\n",
    "print(node.pretty(indent=2, show_text=True))"
   ]
  },
  {
   "cell_type": "markdown",
   "metadata": {},
   "source": [
    "## Desired output"
   ]
  },
  {
   "cell_type": "code",
   "execution_count": 17,
   "metadata": {},
   "outputs": [],
   "source": [
    "yaml = \"\"\"---\n",
    "title: Distance travelled\n",
    "type: mcq\n",
    "author: Firas Moosvi\n",
    "source: original\n",
    "tags:\n",
    "- kinematics\n",
    "- test\n",
    "---\"\"\""
   ]
  },
  {
   "cell_type": "code",
   "execution_count": 18,
   "metadata": {},
   "outputs": [],
   "source": [
    "heading = \"\"\"# File Title\n",
    "\n",
    "Introduction to the problem\"\"\""
   ]
  },
  {
   "cell_type": "code",
   "execution_count": 19,
   "metadata": {},
   "outputs": [],
   "source": [
    "block1 = \"\"\"## Question 1 Text\n",
    "\n",
    "Some text here\n",
    "\n",
    "### Answer 1 Section\n",
    "\n",
    "Some answers here\"\"\""
   ]
  },
  {
   "cell_type": "code",
   "execution_count": 20,
   "metadata": {},
   "outputs": [],
   "source": [
    "block2 = \"\"\"## Question 2 Text\n",
    "\n",
    "Some other text here\n",
    "\n",
    "### Answer 2 Section\n",
    "\n",
    "Some other answers here\"\"\""
   ]
  },
  {
   "cell_type": "code",
   "execution_count": null,
   "metadata": {},
   "outputs": [],
   "source": []
  },
  {
   "cell_type": "code",
   "execution_count": null,
   "metadata": {},
   "outputs": [],
   "source": []
  }
 ],
 "metadata": {
  "kernelspec": {
   "display_name": "Python 3",
   "language": "python",
   "name": "python3"
  },
  "language_info": {
   "codemirror_mode": {
    "name": "ipython",
    "version": 3
   },
   "file_extension": ".py",
   "mimetype": "text/x-python",
   "name": "python",
   "nbconvert_exporter": "python",
   "pygments_lexer": "ipython3",
   "version": "3.8.3"
  }
 },
 "nbformat": 4,
 "nbformat_minor": 4
}
