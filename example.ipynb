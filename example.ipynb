{
 "cells": [
  {
   "cell_type": "code",
   "execution_count": 1,
   "metadata": {
    "tags": []
   },
   "outputs": [],
   "source": [
    "import pathlib\n",
    "\n",
    "from markdown_it import MarkdownIt\n",
    "from mdit_py_plugins.front_matter import front_matter_plugin\n",
    "from mdit_py_plugins.footnote import footnote_plugin"
   ]
  },
  {
   "cell_type": "code",
   "execution_count": 13,
   "metadata": {
    "nteract": {
     "transient": {
      "deleting": false
     }
    },
    "tags": []
   },
   "outputs": [],
   "source": [
    "from markdown_it import MarkdownIt\n",
    "from mdformat.renderer import MDRenderer\n",
    "\n",
    "path = pathlib.Path('test.md')\n",
    "mdtext = path.read_text()\n",
    "\n",
    "mdit = MarkdownIt()\n",
    "env = {}\n",
    "tokens = mdit.parse(mdtext, env)\n",
    "\n",
    "#tokens_parts = ...  # Split the token stream here\n",
    "tokens_parts = [tokens[0:17],tokens[17:23],tokens[23:35],tokens[35:]]\n",
    "\n",
    "md_files = []\n",
    "\n",
    "for part in tokens_parts:\n",
    "    rendered_part = MDRenderer().render(part, mdit.options, env)\n",
    "    md_files.append(rendered_part)\n",
    "    #print(rendered_part)"
   ]
  },
  {
   "cell_type": "code",
   "execution_count": 21,
   "metadata": {
    "nteract": {
     "transient": {
      "deleting": false
     }
    },
    "tags": []
   },
   "outputs": [
    {
     "name": "stdout",
     "output_type": "stream",
     "text": [
      "Token(type='hr', tag='hr', nesting=0, attrs={}, map=[0, 1], level=0, children=None, content='', markup='----', info='', meta={}, block=True, hidden=False) \n",
      "\n",
      "Token(type='paragraph_open', tag='p', nesting=1, attrs={}, map=[1, 6], level=0, children=None, content='', markup='', info='', meta={}, block=True, hidden=False) \n",
      "\n",
      "Token(type='inline', tag='', nesting=0, attrs={}, map=[1, 6], level=1, children=[Token(type='text', tag='', nesting=0, attrs={}, map=None, level=0, children=None, content='title: Distance travelled', markup='', info='', meta={}, block=False, hidden=False), Token(type='softbreak', tag='br', nesting=0, attrs={}, map=None, level=0, children=None, content='', markup='', info='', meta={}, block=False, hidden=False), Token(type='text', tag='', nesting=0, attrs={}, map=None, level=0, children=None, content='type: mcq', markup='', info='', meta={}, block=False, hidden=False), Token(type='softbreak', tag='br', nesting=0, attrs={}, map=None, level=0, children=None, content='', markup='', info='', meta={}, block=False, hidden=False), Token(type='text', tag='', nesting=0, attrs={}, map=None, level=0, children=None, content='author: Firas Moosvi', markup='', info='', meta={}, block=False, hidden=False), Token(type='softbreak', tag='br', nesting=0, attrs={}, map=None, level=0, children=None, content='', markup='', info='', meta={}, block=False, hidden=False), Token(type='text', tag='', nesting=0, attrs={}, map=None, level=0, children=None, content='source: original', markup='', info='', meta={}, block=False, hidden=False), Token(type='softbreak', tag='br', nesting=0, attrs={}, map=None, level=0, children=None, content='', markup='', info='', meta={}, block=False, hidden=False), Token(type='text', tag='', nesting=0, attrs={}, map=None, level=0, children=None, content='tags:', markup='', info='', meta={}, block=False, hidden=False)], content='title: Distance travelled\\ntype: mcq\\nauthor: Firas Moosvi\\nsource: original\\ntags:', markup='', info='', meta={}, block=True, hidden=False) \n",
      "\n",
      "Token(type='paragraph_close', tag='p', nesting=-1, attrs={}, map=None, level=0, children=None, content='', markup='', info='', meta={}, block=True, hidden=False) \n",
      "\n",
      "Token(type='bullet_list_open', tag='ul', nesting=1, attrs={}, map=[6, 8], level=0, children=None, content='', markup='-', info='', meta={}, block=True, hidden=False) \n",
      "\n",
      "Token(type='list_item_open', tag='li', nesting=1, attrs={}, map=[6, 7], level=1, children=None, content='', markup='-', info='', meta={}, block=True, hidden=False) \n",
      "\n",
      "Token(type='paragraph_open', tag='p', nesting=1, attrs={}, map=[6, 7], level=2, children=None, content='', markup='', info='', meta={}, block=True, hidden=True) \n",
      "\n",
      "Token(type='inline', tag='', nesting=0, attrs={}, map=[6, 7], level=3, children=[Token(type='text', tag='', nesting=0, attrs={}, map=None, level=0, children=None, content='kinematics', markup='', info='', meta={}, block=False, hidden=False)], content='kinematics', markup='', info='', meta={}, block=True, hidden=False) \n",
      "\n",
      "Token(type='paragraph_close', tag='p', nesting=-1, attrs={}, map=None, level=2, children=None, content='', markup='', info='', meta={}, block=True, hidden=True) \n",
      "\n",
      "Token(type='list_item_close', tag='li', nesting=-1, attrs={}, map=None, level=1, children=None, content='', markup='-', info='', meta={}, block=True, hidden=False) \n",
      "\n",
      "Token(type='list_item_open', tag='li', nesting=1, attrs={}, map=[7, 8], level=1, children=None, content='', markup='-', info='', meta={}, block=True, hidden=False) \n",
      "\n",
      "Token(type='paragraph_open', tag='p', nesting=1, attrs={}, map=[7, 8], level=2, children=None, content='', markup='', info='', meta={}, block=True, hidden=True) \n",
      "\n",
      "Token(type='inline', tag='', nesting=0, attrs={}, map=[7, 8], level=3, children=[Token(type='text', tag='', nesting=0, attrs={}, map=None, level=0, children=None, content='test', markup='', info='', meta={}, block=False, hidden=False)], content='test', markup='', info='', meta={}, block=True, hidden=False) \n",
      "\n",
      "Token(type='paragraph_close', tag='p', nesting=-1, attrs={}, map=None, level=2, children=None, content='', markup='', info='', meta={}, block=True, hidden=True) \n",
      "\n",
      "Token(type='list_item_close', tag='li', nesting=-1, attrs={}, map=None, level=1, children=None, content='', markup='-', info='', meta={}, block=True, hidden=False) \n",
      "\n",
      "Token(type='bullet_list_close', tag='ul', nesting=-1, attrs={}, map=None, level=0, children=None, content='', markup='-', info='', meta={}, block=True, hidden=False) \n",
      "\n",
      "Token(type='hr', tag='hr', nesting=0, attrs={}, map=[8, 9], level=0, children=None, content='', markup='----', info='', meta={}, block=True, hidden=False) \n",
      "\n",
      "Token(type='heading_open', tag='h1', nesting=1, attrs={}, map=[9, 10], level=0, children=None, content='', markup='#', info='', meta={}, block=True, hidden=False) \n",
      "\n",
      "Token(type='inline', tag='', nesting=0, attrs={}, map=[9, 10], level=1, children=[Token(type='text', tag='', nesting=0, attrs={}, map=None, level=0, children=None, content='File Title', markup='', info='', meta={}, block=False, hidden=False)], content='File Title', markup='', info='', meta={}, block=True, hidden=False) \n",
      "\n",
      "Token(type='heading_close', tag='h1', nesting=-1, attrs={}, map=None, level=0, children=None, content='', markup='#', info='', meta={}, block=True, hidden=False) \n",
      "\n",
      "Token(type='paragraph_open', tag='p', nesting=1, attrs={}, map=[11, 12], level=0, children=None, content='', markup='', info='', meta={}, block=True, hidden=False) \n",
      "\n",
      "Token(type='inline', tag='', nesting=0, attrs={}, map=[11, 12], level=1, children=[Token(type='text', tag='', nesting=0, attrs={}, map=None, level=0, children=None, content='Introduction to the problem', markup='', info='', meta={}, block=False, hidden=False)], content='Introduction to the problem', markup='', info='', meta={}, block=True, hidden=False) \n",
      "\n",
      "Token(type='paragraph_close', tag='p', nesting=-1, attrs={}, map=None, level=0, children=None, content='', markup='', info='', meta={}, block=True, hidden=False) \n",
      "\n",
      "Token(type='heading_open', tag='h2', nesting=1, attrs={}, map=[13, 14], level=0, children=None, content='', markup='##', info='', meta={}, block=True, hidden=False) \n",
      "\n",
      "Token(type='inline', tag='', nesting=0, attrs={}, map=[13, 14], level=1, children=[Token(type='text', tag='', nesting=0, attrs={}, map=None, level=0, children=None, content='Question 1 Text', markup='', info='', meta={}, block=False, hidden=False)], content='Question 1 Text', markup='', info='', meta={}, block=True, hidden=False) \n",
      "\n",
      "Token(type='heading_close', tag='h2', nesting=-1, attrs={}, map=None, level=0, children=None, content='', markup='##', info='', meta={}, block=True, hidden=False) \n",
      "\n",
      "Token(type='paragraph_open', tag='p', nesting=1, attrs={}, map=[15, 16], level=0, children=None, content='', markup='', info='', meta={}, block=True, hidden=False) \n",
      "\n",
      "Token(type='inline', tag='', nesting=0, attrs={}, map=[15, 16], level=1, children=[Token(type='text', tag='', nesting=0, attrs={}, map=None, level=0, children=None, content='Some text here', markup='', info='', meta={}, block=False, hidden=False)], content='Some text here', markup='', info='', meta={}, block=True, hidden=False) \n",
      "\n",
      "Token(type='paragraph_close', tag='p', nesting=-1, attrs={}, map=None, level=0, children=None, content='', markup='', info='', meta={}, block=True, hidden=False) \n",
      "\n",
      "Token(type='heading_open', tag='h3', nesting=1, attrs={}, map=[17, 18], level=0, children=None, content='', markup='###', info='', meta={}, block=True, hidden=False) \n",
      "\n",
      "Token(type='inline', tag='', nesting=0, attrs={}, map=[17, 18], level=1, children=[Token(type='text', tag='', nesting=0, attrs={}, map=None, level=0, children=None, content='Answer 1 Section', markup='', info='', meta={}, block=False, hidden=False)], content='Answer 1 Section', markup='', info='', meta={}, block=True, hidden=False) \n",
      "\n",
      "Token(type='heading_close', tag='h3', nesting=-1, attrs={}, map=None, level=0, children=None, content='', markup='###', info='', meta={}, block=True, hidden=False) \n",
      "\n",
      "Token(type='paragraph_open', tag='p', nesting=1, attrs={}, map=[19, 20], level=0, children=None, content='', markup='', info='', meta={}, block=True, hidden=False) \n",
      "\n",
      "Token(type='inline', tag='', nesting=0, attrs={}, map=[19, 20], level=1, children=[Token(type='text', tag='', nesting=0, attrs={}, map=None, level=0, children=None, content='Some answers here', markup='', info='', meta={}, block=False, hidden=False)], content='Some answers here', markup='', info='', meta={}, block=True, hidden=False) \n",
      "\n",
      "Token(type='paragraph_close', tag='p', nesting=-1, attrs={}, map=None, level=0, children=None, content='', markup='', info='', meta={}, block=True, hidden=False) \n",
      "\n",
      "Token(type='heading_open', tag='h2', nesting=1, attrs={}, map=[21, 22], level=0, children=None, content='', markup='##', info='', meta={}, block=True, hidden=False) \n",
      "\n",
      "Token(type='inline', tag='', nesting=0, attrs={}, map=[21, 22], level=1, children=[Token(type='text', tag='', nesting=0, attrs={}, map=None, level=0, children=None, content='Question 2 Text', markup='', info='', meta={}, block=False, hidden=False)], content='Question 2 Text', markup='', info='', meta={}, block=True, hidden=False) \n",
      "\n",
      "Token(type='heading_close', tag='h2', nesting=-1, attrs={}, map=None, level=0, children=None, content='', markup='##', info='', meta={}, block=True, hidden=False) \n",
      "\n",
      "Token(type='paragraph_open', tag='p', nesting=1, attrs={}, map=[23, 24], level=0, children=None, content='', markup='', info='', meta={}, block=True, hidden=False) \n",
      "\n",
      "Token(type='inline', tag='', nesting=0, attrs={}, map=[23, 24], level=1, children=[Token(type='text', tag='', nesting=0, attrs={}, map=None, level=0, children=None, content='Some other text here', markup='', info='', meta={}, block=False, hidden=False)], content='Some other text here', markup='', info='', meta={}, block=True, hidden=False) \n",
      "\n",
      "Token(type='paragraph_close', tag='p', nesting=-1, attrs={}, map=None, level=0, children=None, content='', markup='', info='', meta={}, block=True, hidden=False) \n",
      "\n",
      "Token(type='heading_open', tag='h3', nesting=1, attrs={}, map=[25, 26], level=0, children=None, content='', markup='###', info='', meta={}, block=True, hidden=False) \n",
      "\n",
      "Token(type='inline', tag='', nesting=0, attrs={}, map=[25, 26], level=1, children=[Token(type='text', tag='', nesting=0, attrs={}, map=None, level=0, children=None, content='Answer 2 Section', markup='', info='', meta={}, block=False, hidden=False)], content='Answer 2 Section', markup='', info='', meta={}, block=True, hidden=False) \n",
      "\n",
      "Token(type='heading_close', tag='h3', nesting=-1, attrs={}, map=None, level=0, children=None, content='', markup='###', info='', meta={}, block=True, hidden=False) \n",
      "\n",
      "Token(type='paragraph_open', tag='p', nesting=1, attrs={}, map=[27, 28], level=0, children=None, content='', markup='', info='', meta={}, block=True, hidden=False) \n",
      "\n",
      "Token(type='inline', tag='', nesting=0, attrs={}, map=[27, 28], level=1, children=[Token(type='text', tag='', nesting=0, attrs={}, map=None, level=0, children=None, content='Some other answers here', markup='', info='', meta={}, block=False, hidden=False)], content='Some other answers here', markup='', info='', meta={}, block=True, hidden=False) \n",
      "\n",
      "Token(type='paragraph_close', tag='p', nesting=-1, attrs={}, map=None, level=0, children=None, content='', markup='', info='', meta={}, block=True, hidden=False) \n",
      "\n"
     ]
    }
   ],
   "source": [
    "parts = {'header': [],\n",
    "         'h1':[],\n",
    "         'h2':[]}\n",
    "\n",
    "for x,t in enumerate(tokens):\n",
    "    \n",
    "    if t.tag == 'hr':\n",
    "        parts['header'].append(x)\n",
    "    elif t.tag == 'h1' and t.nesting == 1:\n",
    "        parts['h1'].append(x)\n",
    "    elif t.tag == 'h2': # and t.nesting == 1:\n",
    "        parts['h2'].append(x)\n",
    "        \n",
    "    print(t,'\\n')"
   ]
  },
  {
   "cell_type": "code",
   "execution_count": 22,
   "metadata": {
    "nteract": {
     "transient": {
      "deleting": false
     }
    },
    "tags": []
   },
   "outputs": [
    {
     "data": {
      "text/plain": [
       "{'header': [0, 16], 'h1': [17], 'h2': [23, 25, 35, 37]}"
      ]
     },
     "execution_count": 22,
     "metadata": {},
     "output_type": "execute_result"
    }
   ],
   "source": [
    "parts"
   ]
  },
  {
   "cell_type": "code",
   "execution_count": null,
   "metadata": {},
   "outputs": [],
   "source": []
  },
  {
   "cell_type": "code",
   "execution_count": null,
   "metadata": {},
   "outputs": [],
   "source": []
  },
  {
   "cell_type": "code",
   "execution_count": null,
   "metadata": {},
   "outputs": [],
   "source": []
  },
  {
   "cell_type": "markdown",
   "metadata": {},
   "source": [
    "## Desired output"
   ]
  },
  {
   "cell_type": "code",
   "execution_count": 51,
   "metadata": {
    "execution": {
     "shell.execute_reply": "2021-05-08T01:40:42.395Z"
    }
   },
   "outputs": [],
   "source": [
    "yaml = \"\"\"---\n",
    "title: Distance travelled\n",
    "type: mcq\n",
    "author: Firas Moosvi\n",
    "source: original\n",
    "tags:\n",
    "- kinematics\n",
    "- test\n",
    "---\"\"\""
   ]
  },
  {
   "cell_type": "code",
   "execution_count": 52,
   "metadata": {
    "execution": {
     "shell.execute_reply": "2021-05-08T01:40:42.403Z"
    }
   },
   "outputs": [],
   "source": [
    "heading = \"\"\"# File Title\n",
    "\n",
    "Introduction to the problem\"\"\""
   ]
  },
  {
   "cell_type": "code",
   "execution_count": 53,
   "metadata": {
    "execution": {
     "shell.execute_reply": "2021-05-08T01:40:42.414Z"
    }
   },
   "outputs": [],
   "source": [
    "block1 = \"\"\"## Question 1 Text\n",
    "\n",
    "Some text here\n",
    "\n",
    "### Answer 1 Section\n",
    "\n",
    "Some answers here\"\"\""
   ]
  },
  {
   "cell_type": "code",
   "execution_count": 54,
   "metadata": {
    "execution": {
     "shell.execute_reply": "2021-05-08T01:40:42.423Z"
    }
   },
   "outputs": [],
   "source": [
    "block2 = \"\"\"## Question 2 Text\n",
    "\n",
    "Some other text here\n",
    "\n",
    "### Answer 2 Section\n",
    "\n",
    "Some other answers here\"\"\""
   ]
  },
  {
   "cell_type": "code",
   "execution_count": null,
   "metadata": {},
   "outputs": [],
   "source": []
  },
  {
   "cell_type": "code",
   "execution_count": null,
   "metadata": {},
   "outputs": [],
   "source": []
  }
 ],
 "metadata": {
  "kernelspec": {
   "display_name": "Python 3",
   "language": "python",
   "name": "python3"
  },
  "language_info": {
   "codemirror_mode": {
    "name": "ipython",
    "version": 3
   },
   "file_extension": ".py",
   "mimetype": "text/x-python",
   "name": "python",
   "nbconvert_exporter": "python",
   "pygments_lexer": "ipython3",
   "version": "3.8.3"
  },
  "nteract": {
   "version": "0.28.0"
  }
 },
 "nbformat": 4,
 "nbformat_minor": 4
}
